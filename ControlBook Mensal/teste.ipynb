{
 "cells": [
  {
   "cell_type": "code",
   "execution_count": 3,
   "metadata": {},
   "outputs": [],
   "source": [
    "import pandas as pd\n",
    "import numpy\n",
    "import os\n",
    "\n",
    "\n",
    "def create_clients():\n",
    "    excel = pd.read_excel('TICKETS DO MÊS FEVEREIRO.xlsx')\n",
    "    excel = excel.dropna(axis=0, how='any')\n",
    "\n",
    "    clientes = excel['CLIENTE (ORGANIZAÇÃO)'].unique()\n",
    "\n",
    "    for i in clientes:\n",
    "        planilha = excel.loc[excel['CLIENTE (ORGANIZAÇÃO)'] == i]\n",
    "        planilha.to_excel(f'clientes/{i}.xlsx', index=False)\n"
   ]
  }
 ],
 "metadata": {
  "kernelspec": {
   "display_name": "Python 3",
   "language": "python",
   "name": "python3"
  },
  "language_info": {
   "codemirror_mode": {
    "name": "ipython",
    "version": 3
   },
   "file_extension": ".py",
   "mimetype": "text/x-python",
   "name": "python",
   "nbconvert_exporter": "python",
   "pygments_lexer": "ipython3",
   "version": "3.11.0"
  },
  "orig_nbformat": 4,
  "vscode": {
   "interpreter": {
    "hash": "ed4c2cfe414b81abcf9aa1f8485df6a633a3aef9ea1b00c434d57ae1ba332dcc"
   }
  }
 },
 "nbformat": 4,
 "nbformat_minor": 2
}
