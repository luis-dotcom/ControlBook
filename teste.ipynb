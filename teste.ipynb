{
 "cells": [
  {
   "cell_type": "code",
   "execution_count": 1,
   "metadata": {},
   "outputs": [
    {
     "ename": "SyntaxError",
     "evalue": "'return' outside function (3172346332.py, line 9)",
     "output_type": "error",
     "traceback": [
      "\u001b[1;36m  Cell \u001b[1;32mIn [1], line 9\u001b[1;36m\u001b[0m\n\u001b[1;33m    return result\u001b[0m\n\u001b[1;37m    ^\u001b[0m\n\u001b[1;31mSyntaxError\u001b[0m\u001b[1;31m:\u001b[0m 'return' outside function\n"
     ]
    }
   ],
   "source": [
    "class Dados:\n",
    "\n",
    "    def __init__(self):\n",
    "        self.colunas = ['Número', 'Categoria', 'Origem de Abertura', 'Serviço (Completo)', 'Aberto em', 'Horário do Incidente',\n",
    "                        'Data de Normalização', 'Resolvido em', 'Fechado em', 'Criado por', 'Serviço (1º Nível)', 'Assunto',\n",
    "                        'Descrição', 'Cliente (Organização)', 'Unidade', 'Responsável: Equipe', 'Causa Raiz', 'Resolução',\n",
    "                        'Indicador do SLA de Solução',\n",
    "                        'Tempo parado (Horas corridas)', 'Tempo de vida (Descontando parado - Horas corridas)',\n",
    "                        'Tempo de vida (Horas corridas)',\n",
    "                        'Ticket Externo']\n",
    "\n",
    "        self.dados = ['ToIP', 'Solicitações', 'Vídeo', 'Dados', '»', 'Incidentes', 'Suporte Interno','Administração dos Ambientes']\n",
    "\n",
    "        self.gtw_sebrae = {'JUAZEIRO':'GW | EP_GWFXO_JUAZEI',\n",
    "                           'ITAPIPOCA':'GW | EP_GWFXO_ITAPIP',\n",
    "                           'IGUATU':'GW | EP_GWFXO_IGUATU',\n",
    "                           'TAUA':'GW | EP_GWFXO_TAUA',\n",
    "                           'CRATEUS':'GW | EP_GWFXO_CRATEUS',\n",
    "                           'SOBRAL':'GW | EP_GWFXO_SOBRAL',\n",
    "                           'QUIXERAMOBIM':'GW | EP_GWFXO_QUIXERAMOBIM',\n",
    "                           'LIMOEIRO':'GW | EP_GWFXO_LIMOEIRO',\n",
    "                           'BATURI':'GW | EP_GWFXO_BATURI',\n",
    "                           'ARACATI':'GW | EP_GWFXO_ARACAT'}\n",
    "\n",
    "        self.dados_gtw_sebrae = ['ITAPIPOCA','IGUATU','TAUA','CRATEUS','SOBRAL','QUIXERAMOBIM','LIMOEIRO','BATURI','ARACATI','JUAZEIRO']\n",
    "\n",
    "\n",
    "        self.clientes_unidades = ['UNI_ACUJT','UNI_ACUMT','UNI_ACUNO','UNI_ACUPQ','UNI_ACURE','UNI_ACUTO','UNI_AREC','UNI_UCUEB',\n",
    "                    'LJSAC','LJRES','LJJFO','LJCGC','LJCAS','LJANT','CMCPN','CMANA-CMDAN','CDSSA','AEXUDI','AEXMON',\n",
    "                    'ACZIM','ACZGP','ACZGG','ACZFT','ACZBT','ACVVA','ACVRE','ACVOP','ACVNA','ACVHD','ACVCA','ACURN',\n",
    "                     'ACUBT','ACTUR','ACTSR','ACTIJ','ACTHE','ACTBO','ACTAN','ACSST','ACSPM','ACSOB','ACSMA','ACSLZ',\n",
    "                     'ACSLP','ACSJR','ACSJQ','ACSHN','ACSER','ACSCZ','ACSCS','ACSAD','ACSAC','ACSAB','ACRJF','ACRIA',\n",
    "                     'ACREZ','ACREC','ACRCR','ACRBP','ACRBC','ACPRM','ACPPD','ACPOV','ACPOA','ACPNI','ACPIT','ACPIN',\n",
    "                     'ACPGO','ACPGA','ACPEV','ACPEH','ACPDP','ACPCS','ACPBA','ACOUB','ACOSC','ACORI','ACNOH','ACNIT',\n",
    "                     'ACNIG','ACNAT','ACMSO','ACMON','ACMNA','ACMIL','ACMII','ACMGF','ACMCZ','ACMAU','ACMAE','ACMAC',\n",
    "                     'ACMAB','ACLPT','ACLPA','ACLME','ACLLI','ACLJE','ACLIN','ACLDB','ACLAU','ACJZN','ACJQE','ACJPA',\n",
    "                     'ACJQE','ACJPA','ACJOI','ACJMO','ACJLE','ACJKK','ACJIP','ACJER','ACJBT','ACJAU','ACJAR','ACJAN',\n",
    "                     'ACIUN','ACITP','ACIPR','ACIPG','ACIMP','ACIBR','ACIBP','ACIBO','ACHSA','ACHBU','ACGVA','ACGUA',\n",
    "                     'ACGRU','ACGRA','ACGOI','ACGIG','ACFSA','ACFRA','ACFOP','ACFER','ACFAL','ACDVN','ACDEL','ACDDA',\n",
    "                     'ACDCX','ACCVI','ACCVG','ACCUI','ACCTP','ACCTI','ACCSU','ACCST','ACCSP','ACCSM','ACCSD','ACCSM',\n",
    "                     'ACCSD','ACCSA','ACCOL','ACCNV','ACCNS','ACCNO','ACCNN','ACCJZ','ACCIN','ACCGO','ACCDX','ACCCV',\n",
    "                     'ACCCV','ACCCO','ACCCN','ACCBT','ACCBL','ACCAV','ACCAU','ACCAP','ACCAM','ACCAH','ACCAE','ACCAB',\n",
    "                     'ACBVT','ACBUT','ACBTF','ACBTA','ACBRJ','ACBRG','ACBRF','ACBON','ACBEF','ACBDP','ACBDO','ACBCA',\n",
    "                     'ACBAU','ACBAR','ACAVA','ACATU','ACATM','ACARA','ACAQM','ACAQA','ACAPI','ACANG','ACANA','ACALP',\n",
    "                     'AATHE','AASLZ','AASDU','AARNV','AARIA','AAREC','AAPPD','AAPOV','AAPOA','AAPET','AANAT-BOX','AAMON',\n",
    "                     'AAMII','AAMGF','AAMCZ-BOX','AAMCZ-AEX','AAMAU','AAMAC','AAMAB','AALDB','AAJZN','AAJAP','AAJER',\n",
    "                     'AAIMP','AAGRU','AAGRU_BOX','AAGIB','AAFOZ','AAFOR','AACWB-AEX','AACPQ','AACKS','AABVT','AABEL_CONTAINER',\n",
    "                     'AABEL','AABAU_BOX','AAATM','AAAGRU_BOX','PAÇO','ZOONOSES','CD CIAL','ARGOS','ALTO CUSTO','VIGILANCIA SANITARIA',\n",
    "                     'TRANSITO','FEPASA','HOLANDA','JOINVILLE','SARZEDO','FAB4','CDC','HACASA','CANADA','UNI_ACUJG',\n",
    "                     'UNI_ACUJT','UNI_ACUIA','UNI_ACUFU','UNI_ACUBP','UNI_ACUBO','ACUBH']\n",
    "\n"
   ]
  },
  {
   "cell_type": "code",
   "execution_count": null,
   "metadata": {},
   "outputs": [],
   "source": [
    "import pandas as pd\n",
    "import numpy as np\n",
    "import datetime as dt\n",
    "from openpyxl import load_workbook\n",
    "from openpyxl.styles.borders import Border, Side\n",
    "from openpyxl.styles import PatternFill, Alignment\n",
    "from Dados import *\n",
    "\n"
   ]
  }
 ],
 "metadata": {
  "kernelspec": {
   "display_name": "Python 3",
   "language": "python",
   "name": "python3"
  },
  "language_info": {
   "codemirror_mode": {
    "name": "ipython",
    "version": 3
   },
   "file_extension": ".py",
   "mimetype": "text/x-python",
   "name": "python",
   "nbconvert_exporter": "python",
   "pygments_lexer": "ipython3",
   "version": "3.11.0"
  },
  "orig_nbformat": 4
 },
 "nbformat": 4,
 "nbformat_minor": 2
}
