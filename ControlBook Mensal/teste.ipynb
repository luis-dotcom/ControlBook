{
 "cells": [
  {
   "cell_type": "code",
   "execution_count": 9,
   "metadata": {},
   "outputs": [
    {
     "name": "stdout",
     "output_type": "stream",
     "text": [
      "['SEBRAE' 'TUPY' 'MV SISTEMAS' 'BNB' 'CIJUN' 'MASON RENTAL' 'LOCALIZA'\n",
      " 'CISER' 'UNIDAS' 'META' 'DECAL' 'INDORAMA POLÍMEROS' 'SINQIA' 'PQS'\n",
      " 'CYRELA' 'BASE TELCO' 'DAPAL' 'CBMC' 'GRUPO VENEZA' 'LM WINDPOWER'\n",
      " 'MUNDIAL' 'TECNISA' 'AVANTIA']\n"
     ]
    }
   ],
   "source": [
    "import pandas as pd\n",
    "import numpy\n",
    "import os\n",
    "from openpyxl import load_workbook\n",
    "from openpyxl.styles.borders import Border, Side\n",
    "from openpyxl.styles import PatternFill\n",
    "\n",
    "\n",
    "\n",
    "def create_clients():\n",
    "    excel = pd.read_excel('TICKETS DO MÊS FEVEREIRO.xlsx')\n",
    "    excel = excel.dropna(axis=0, how='any')\n",
    "\n",
    "    clientes = excel['CLIENTE (ORGANIZAÇÃO)'].unique()\n",
    "    print(clientes)\n",
    "    for i in clientes:\n",
    "        planilha = excel.loc[excel['CLIENTE (ORGANIZAÇÃO)'] == i]\n",
    "        planilha.to_excel(f'clientes/{i}.xlsx', index=False)\n",
    "\n",
    "create_clients()\n"
   ]
  },
  {
   "cell_type": "code",
   "execution_count": 16,
   "metadata": {},
   "outputs": [],
   "source": [
    "\n",
    "excel = pd.read_excel('TICKETS DO MÊS FEVEREIRO.xlsx')\n",
    "excel = excel.dropna(axis=0, how='any')\n",
    "clientes = excel['CLIENTE (ORGANIZAÇÃO)'].unique()\n",
    "for cli in clientes:\n",
    "    thin_border = Border(left=Side(style='thin'),\n",
    "                         right=Side(style='thin'),\n",
    "                         top=Side(style='thin'),\n",
    "                         bottom=Side(style='thin'))\n",
    "\n",
    "    wb = load_workbook(filename=f'clientes/{cli}.xlsx')\n",
    "    ws = wb.active\n",
    "    e = ws['A1':'A' + str(ws.max_row)]\n",
    "    a = ws.min_column\n",
    "    for b in range(ws.max_column):\n",
    "        for i in range(len(e)):\n",
    "            ws.cell(row=i + 1, column=b+1).border = thin_border\n",
    "\n",
    "    yellow = PatternFill(fill_type='solid', start_color='00FFFF00',\n",
    "                             end_color='00FFFF00')  # COR DAS CELULAS\n",
    "    linha = 2\n",
    "    for i in range(ws.max_row):\n",
    "            # PEGANDO TODOS AS LINHAS E COLUNAS ENTRE AS COLUNAS A E W COLENTANDO OS DADOS POR LINHAS\n",
    "        data = [ws.cell(row=linha, column=i).value for i in range(1, 24)]\n",
    "\n",
    "        if \"EM ABERTO\" in data:\n",
    "            for row in ws[f'A{linha}:W{linha}']:\n",
    "                for cell in row:\n",
    "                    cell.fill = yellow\n",
    "        linha += 1\n",
    "    wb.save(f'clientes/{cli}.xlsx')\n"
   ]
  },
  {
   "cell_type": "code",
   "execution_count": 5,
   "metadata": {},
   "outputs": [
    {
     "name": "stdout",
     "output_type": "stream",
     "text": [
      "SEBRAE\n",
      "TUPY\n",
      "MV SISTEMAS\n",
      "BNB\n",
      "CIJUN\n",
      "MASON RENTAL\n",
      "LOCALIZA\n",
      "CISER\n",
      "UNIDAS\n",
      "META\n",
      "DECAL\n",
      "INDORAMA POLÍMEROS\n",
      "SINQIA\n",
      "PQS\n",
      "CYRELA\n",
      "BASE TELCO\n",
      "DAPAL\n",
      "CBMC\n",
      "GRUPO VENEZA\n",
      "LM WINDPOWER\n",
      "MUNDIAL\n",
      "TECNISA\n",
      "AVANTIA\n",
      "nan\n"
     ]
    }
   ],
   "source": []
  }
 ],
 "metadata": {
  "kernelspec": {
   "display_name": "Python 3",
   "language": "python",
   "name": "python3"
  },
  "language_info": {
   "codemirror_mode": {
    "name": "ipython",
    "version": 3
   },
   "file_extension": ".py",
   "mimetype": "text/x-python",
   "name": "python",
   "nbconvert_exporter": "python",
   "pygments_lexer": "ipython3",
   "version": "3.11.0"
  },
  "orig_nbformat": 4,
  "vscode": {
   "interpreter": {
    "hash": "ed4c2cfe414b81abcf9aa1f8485df6a633a3aef9ea1b00c434d57ae1ba332dcc"
   }
  }
 },
 "nbformat": 4,
 "nbformat_minor": 2
}
